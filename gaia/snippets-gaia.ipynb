{
 "cells": [
  {
   "cell_type": "code",
   "execution_count": 8,
   "metadata": {
    "collapsed": false
   },
   "outputs": [
    {
     "name": "stdout",
     "output_type": "stream",
     "text": [
      "['', 'trevize1', '', 'trevize2', '', 'hubble', '']\n",
      "['trevize1', 'trevize2', 'hubble']\n"
     ]
    }
   ],
   "source": [
    "import re\n",
    "\n",
    "s = '[trevize1, trevize2, hubble]'\n",
    "\n",
    "t = re.compile('[\\[\\],\\ ]')\n",
    "\n",
    "splited_list = t.split(s)\n",
    "print(splited_list)\n",
    "for i in range(len(splited_list)-1, -1, -1):\n",
    "    if splited_list[i] is '':\n",
    "        del splited_list[i]\n",
    "\n",
    "print(splited_list)"
   ]
  },
  {
   "cell_type": "code",
   "execution_count": 9,
   "metadata": {
    "collapsed": false
   },
   "outputs": [
    {
     "name": "stdout",
     "output_type": "stream",
     "text": [
      "['.ipynb_checkpoints', 'gaia.py', 'Untitled.ipynb']\n"
     ]
    }
   ],
   "source": [
    "import os\n",
    "print(os.listdir())"
   ]
  },
  {
   "cell_type": "code",
   "execution_count": 13,
   "metadata": {
    "collapsed": false
   },
   "outputs": [
    {
     "name": "stdout",
     "output_type": "stream",
     "text": [
      "20160311154309\n"
     ]
    }
   ],
   "source": [
    "import time \n",
    "print(time.strftime(\"%Y%m%d%H%M%S\", time.gmtime(time.time())))"
   ]
  },
  {
   "cell_type": "code",
   "execution_count": 2,
   "metadata": {
    "collapsed": false
   },
   "outputs": [
    {
     "data": {
      "text/plain": [
       "'hon'"
      ]
     },
     "execution_count": 2,
     "metadata": {},
     "output_type": "execute_result"
    }
   ],
   "source": [
    "'python'[-3:]"
   ]
  },
  {
   "cell_type": "code",
   "execution_count": 8,
   "metadata": {
    "collapsed": false
   },
   "outputs": [
    {
     "name": "stdout",
     "output_type": "stream",
     "text": [
      "py-trevize.py\n",
      "py-trevize123.py\n"
     ]
    }
   ],
   "source": [
    "import re\n",
    "\n",
    "algorithms_list = ['py-trevize/py-trevize.py', 'py-trevize copy/py-trevize123.py']\n",
    "\n",
    "for algorithm in algorithms_list:\n",
    "    algorithm_name = re.search('(?<=/)[^/]*',algorithm).group()\n",
    "    print(algorithm_name)\n"
   ]
  },
  {
   "cell_type": "code",
   "execution_count": null,
   "metadata": {
    "collapsed": true
   },
   "outputs": [],
   "source": []
  }
 ],
 "metadata": {
  "kernelspec": {
   "display_name": "Python 3",
   "language": "python",
   "name": "python3"
  },
  "language_info": {
   "codemirror_mode": {
    "name": "ipython",
    "version": 3
   },
   "file_extension": ".py",
   "mimetype": "text/x-python",
   "name": "python",
   "nbconvert_exporter": "python",
   "pygments_lexer": "ipython3",
   "version": "3.5.1"
  }
 },
 "nbformat": 4,
 "nbformat_minor": 0
}
